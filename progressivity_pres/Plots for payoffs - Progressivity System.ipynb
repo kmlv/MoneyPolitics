{
 "cells": [
  {
   "cell_type": "code",
   "execution_count": 1,
   "metadata": {},
   "outputs": [],
   "source": [
    "%matplotlib notebook\n",
    "import matplotlib as mpl\n",
    "import matplotlib.patches as mpatches\n",
    "import matplotlib.pyplot as plt\n",
    "import numpy as np\n",
    "import math\n",
    "import controls as ctrl\n",
    "import pandas as pd"
   ]
  },
  {
   "cell_type": "markdown",
   "metadata": {},
   "source": [
    "# Defining our endowments"
   ]
  },
  {
   "cell_type": "code",
   "execution_count": 2,
   "metadata": {},
   "outputs": [
    {
     "data": {
      "text/plain": [
       "[9, 15, 25, 40, 80, 125]"
      ]
     },
     "execution_count": 2,
     "metadata": {},
     "output_type": "execute_result"
    }
   ],
   "source": [
    "original_task_endowments = ctrl.task_endowments\n",
    "unique_task_endowments = list(set(ctrl.task_endowments))\n",
    "unique_task_endowments.sort()\n",
    "unique_task_endowments"
   ]
  },
  {
   "cell_type": "markdown",
   "metadata": {},
   "source": [
    "# Defining our progressivity levels"
   ]
  },
  {
   "cell_type": "code",
   "execution_count": 3,
   "metadata": {},
   "outputs": [],
   "source": [
    "progressivity_systems = ctrl.progressivity_levels_tax_rates"
   ]
  },
  {
   "cell_type": "markdown",
   "metadata": {},
   "source": [
    "# Calculating Public Incomes and Private Productivities"
   ]
  },
  {
   "cell_type": "markdown",
   "metadata": {},
   "source": [
    "## Calculating Public Contributions"
   ]
  },
  {
   "cell_type": "code",
   "execution_count": 27,
   "metadata": {},
   "outputs": [
    {
     "data": {
      "text/plain": [
       "[139.60000000000002, 138.57, 139.415, 138.765, 139.0]"
      ]
     },
     "execution_count": 27,
     "metadata": {},
     "output_type": "execute_result"
    }
   ],
   "source": [
    "total_public_contributions = []\n",
    "\n",
    "for system in progressivity_systems.values():\n",
    "    current_public_contribution = 0 # public contrib for current tax rate\n",
    "    \n",
    "    counter = 0 # counter for tax rates\n",
    "    for endowment in unique_task_endowments:\n",
    "        tax_rate = system[counter]\n",
    "        # calculating public contrib for current tax rate\n",
    "        if endowment==15: # repeated 3 times\n",
    "            current_public_contribution += 3*tax_rate*endowment \n",
    "        elif endowment==25: # repeated 2 times\n",
    "            current_public_contribution += 2*tax_rate*endowment \n",
    "        else:\n",
    "            current_public_contribution += tax_rate*endowment \n",
    "        \n",
    "        counter += 1\n",
    "        \n",
    "    total_public_contributions.append(current_public_contribution) # storing current public contrib\n",
    "    \n",
    "total_public_contributions"
   ]
  },
  {
   "cell_type": "markdown",
   "metadata": {},
   "source": [
    "## Processing Public Incomes and Private Productivities"
   ]
  },
  {
   "cell_type": "code",
   "execution_count": 28,
   "metadata": {
    "scrolled": true
   },
   "outputs": [],
   "source": [
    "public_incomes = []\n",
    "private_productivities = []\n",
    "\n",
    "for total_public_contribution in total_public_contributions:\n",
    "    \n",
    "    if total_public_contribution <= 192:\n",
    "        # public income for current total contribution\n",
    "        public_incomes.append(101 / (1 + 100 * math.exp(-0.025 * total_public_contribution)) - 1)\n",
    "        # private productivity for current total contribution\n",
    "        private_productivities.append(ctrl.alpha + ctrl.beta*total_public_contribution)\n",
    "    else:\n",
    "        public_incomes.append(101 / (1 + 100 * math.exp(-0.025 * 192)) - 1)\n",
    "        private_productivities.append(ctrl.alpha + ctrl.beta*192)"
   ]
  },
  {
   "cell_type": "code",
   "execution_count": 29,
   "metadata": {},
   "outputs": [
    {
     "data": {
      "text/plain": [
       "[23.93773456853532,\n",
       " 23.457296834138194,\n",
       " 23.85097691877219,\n",
       " 23.547768146849933,\n",
       " 23.657099200195603]"
      ]
     },
     "execution_count": 29,
     "metadata": {},
     "output_type": "execute_result"
    }
   ],
   "source": [
    "public_incomes"
   ]
  },
  {
   "cell_type": "code",
   "execution_count": 30,
   "metadata": {},
   "outputs": [
    {
     "data": {
      "text/plain": [
       "[13.725000000000001, 13.660625, 13.7134375, 13.6728125, 13.6875]"
      ]
     },
     "execution_count": 30,
     "metadata": {},
     "output_type": "execute_result"
    }
   ],
   "source": [
    "private_productivities"
   ]
  },
  {
   "cell_type": "markdown",
   "metadata": {},
   "source": [
    "# Calculating Private Incomes"
   ]
  },
  {
   "cell_type": "code",
   "execution_count": 40,
   "metadata": {},
   "outputs": [],
   "source": [
    "private_incomes = {}\n",
    "\n",
    "endowment_counter = 0 # counter unique endowments\n",
    "for task_endowment in unique_task_endowments:\n",
    "    private_incomes[f\"private_incomes_{task_endowment}\"] = [] # list with all the private incomes for a player\n",
    "    \n",
    "    tax_system = 1 # tax system counter\n",
    "    for private_productivity in private_productivities: # calculating all the private incomes for an specific player\n",
    "        tax_rate = progressivity_systems[f\"{tax_system}\"][endowment_counter] # tax rate in current system for current enwdowment\n",
    "        private_incomes[f\"private_incomes_{task_endowment}\"].append(round(task_endowment*(1-tax_rate)*private_productivity, 3))\n",
    "        tax_system += 1\n",
    "        \n",
    "    endowment_counter += 1"
   ]
  },
  {
   "cell_type": "code",
   "execution_count": 41,
   "metadata": {
    "scrolled": true
   },
   "outputs": [
    {
     "data": {
      "text/plain": [
       "{'private_incomes_9': [74.115, 86.062, 98.737, 110.75, 123.188],\n",
       " 'private_incomes_15': [123.525, 139.338, 156.333, 176.379, 205.312],\n",
       " 'private_incomes_25': [205.875, 224.717, 245.471, 272.089, 321.656],\n",
       " 'private_incomes_40': [329.4, 347.526, 368.617, 394.871, 403.507],\n",
       " 'private_incomes_80': [658.8, 648.06, 615.459, 586.29, 513.555],\n",
       " 'private_incomes_125': [1029.375, 925.507, 831.377, 709.277, 574.875]}"
      ]
     },
     "execution_count": 41,
     "metadata": {},
     "output_type": "execute_result"
    }
   ],
   "source": [
    "private_incomes"
   ]
  },
  {
   "cell_type": "markdown",
   "metadata": {},
   "source": [
    "# Obtaining Final Payoffs"
   ]
  },
  {
   "cell_type": "code",
   "execution_count": 42,
   "metadata": {},
   "outputs": [],
   "source": [
    "final_payoffs = {}\n",
    "\n",
    "for task_endowment in unique_task_endowments:\n",
    "    index = 0 # index for calling the private income/public contrib that corresponds to an specific tax rate\n",
    "    \n",
    "    final_payoffs[f\"final_payoff_{task_endowment}\"] = [] # list with all the final_payoffs for a player\n",
    "    \n",
    "    for tax_system in range(0,5): # calculating all the final payoffs for an specific player\n",
    "        final_payoffs[f\"final_payoff_{task_endowment}\"].append(round(private_incomes[f\"private_incomes_{task_endowment}\"][tax_system] \n",
    "                                                              +public_incomes[tax_system], 3))\n",
    "        index += 1"
   ]
  },
  {
   "cell_type": "code",
   "execution_count": 43,
   "metadata": {
    "scrolled": false
   },
   "outputs": [
    {
     "data": {
      "text/plain": [
       "{'final_payoff_9': [98.053, 109.519, 122.588, 134.298, 146.845],\n",
       " 'final_payoff_15': [147.463, 162.795, 180.184, 199.927, 228.969],\n",
       " 'final_payoff_25': [229.813, 248.174, 269.322, 295.637, 345.313],\n",
       " 'final_payoff_40': [353.338, 370.983, 392.468, 418.419, 427.164],\n",
       " 'final_payoff_80': [682.738, 671.517, 639.31, 609.838, 537.212],\n",
       " 'final_payoff_125': [1053.313, 948.964, 855.228, 732.825, 598.532]}"
      ]
     },
     "execution_count": 43,
     "metadata": {},
     "output_type": "execute_result"
    }
   ],
   "source": [
    "final_payoffs"
   ]
  },
  {
   "cell_type": "markdown",
   "metadata": {},
   "source": [
    "# Creating our payoff table"
   ]
  },
  {
   "cell_type": "code",
   "execution_count": 44,
   "metadata": {},
   "outputs": [
    {
     "name": "stderr",
     "output_type": "stream",
     "text": [
      "D:\\Anaconda5.2.0\\lib\\site-packages\\pandas\\compat\\_optional.py:106: UserWarning: Pandas requires version '0.9.8' or newer of 'xlsxwriter' (version '0.9.3' currently installed).\n",
      "  warnings.warn(msg, UserWarning)\n"
     ]
    }
   ],
   "source": [
    "payoffs_db = pd.DataFrame.from_dict(final_payoffs, orient='index')\n",
    "payoffs_db.to_excel(\"payoffs_table_progressivity.xlsx\")"
   ]
  }
 ],
 "metadata": {
  "kernelspec": {
   "display_name": "Python 3",
   "language": "python",
   "name": "python3"
  },
  "language_info": {
   "codemirror_mode": {
    "name": "ipython",
    "version": 3
   },
   "file_extension": ".py",
   "mimetype": "text/x-python",
   "name": "python",
   "nbconvert_exporter": "python",
   "pygments_lexer": "ipython3",
   "version": "3.6.5"
  }
 },
 "nbformat": 4,
 "nbformat_minor": 2
}
