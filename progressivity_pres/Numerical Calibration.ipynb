{
 "cells": [
  {
   "cell_type": "code",
   "execution_count": 1,
   "metadata": {},
   "outputs": [],
   "source": [
    "%matplotlib notebook\n",
    "import matplotlib as mpl\n",
    "import matplotlib.patches as mpatches\n",
    "import matplotlib.pyplot as plt\n",
    "import numpy as np\n",
    "import math\n",
    "import controls as ctrl\n",
    "import pandas as pd\n",
    "import os"
   ]
  },
  {
   "cell_type": "markdown",
   "metadata": {},
   "source": [
    "**Programmer:** Marco Gutierrez"
   ]
  },
  {
   "cell_type": "markdown",
   "metadata": {},
   "source": [
    "# Project Structure"
   ]
  },
  {
   "cell_type": "markdown",
   "metadata": {},
   "source": [
    "1. Stablish the constants for the model (endowments)\n",
    "1. Define the payoff functions\n",
    "1. Define a calibrator function for the tax rate (which gets the value that maximizes the total payoff)\n",
    "1. Define a tester function which uses the calibrator for several sets of parameters\n",
    "1. Use the tester to obtain the set of params which maximizes the difference in optimal tax rates"
   ]
  },
  {
   "cell_type": "markdown",
   "metadata": {},
   "source": [
    "# 1. Defining our constants (endowments)"
   ]
  },
  {
   "cell_type": "code",
   "execution_count": 2,
   "metadata": {},
   "outputs": [],
   "source": [
    "original_task_endowments = ctrl.task_endowments\n",
    "total_endowment = sum(original_task_endowments)\n",
    "unique_task_endowments = list(set(ctrl.task_endowments))\n",
    "unique_task_endowments.sort()"
   ]
  },
  {
   "cell_type": "code",
   "execution_count": 4,
   "metadata": {},
   "outputs": [
    {
     "data": {
      "text/plain": [
       "[125, 80, 40, 25, 25, 15, 15, 15, 9]"
      ]
     },
     "execution_count": 4,
     "metadata": {},
     "output_type": "execute_result"
    }
   ],
   "source": [
    "original_task_endowments"
   ]
  },
  {
   "cell_type": "code",
   "execution_count": 3,
   "metadata": {},
   "outputs": [
    {
     "data": {
      "text/plain": [
       "349"
      ]
     },
     "execution_count": 3,
     "metadata": {},
     "output_type": "execute_result"
    }
   ],
   "source": [
    "total_endowment*1"
   ]
  },
  {
   "cell_type": "markdown",
   "metadata": {},
   "source": [
    "# 2. Defining the Payoff Functions"
   ]
  },
  {
   "cell_type": "markdown",
   "metadata": {},
   "source": [
    "## 1. Public Payoff"
   ]
  },
  {
   "cell_type": "markdown",
   "metadata": {},
   "source": [
    "### Parameters"
   ]
  },
  {
   "cell_type": "code",
   "execution_count": 4,
   "metadata": {},
   "outputs": [],
   "source": [
    "theta = 0.025 # exponential parameter"
   ]
  },
  {
   "cell_type": "markdown",
   "metadata": {},
   "source": [
    "### Payoff Function"
   ]
  },
  {
   "cell_type": "code",
   "execution_count": 5,
   "metadata": {},
   "outputs": [],
   "source": [
    "def public_payoff(total_endowment, tax_rate):\n",
    "    \"\"\"\n",
    "    This function calculates the public payoff for the players using\n",
    "    the Kamei (2019) functions\n",
    "    \n",
    "    Input: Theta (exponential parameter), the sum of all the endowments (total_endowment) and the Tax rate (tax_rate)\n",
    "    Output: Public payoff for each player\n",
    "    \"\"\"\n",
    "    total_public_contribution = tax_rate*total_endowment\n",
    "    \n",
    "    if total_public_contribution <= 192:\n",
    "        # public income for current total contribution\n",
    "        return (101 / (1 + 100 * math.exp(-theta * total_public_contribution)) - 1)\n",
    "    else:\n",
    "        return (101 / (1 + 100 * math.exp(-theta * 192)) - 1)"
   ]
  },
  {
   "cell_type": "markdown",
   "metadata": {},
   "source": [
    "## 2. Private Payoff"
   ]
  },
  {
   "cell_type": "markdown",
   "metadata": {},
   "source": [
    "### Parameters"
   ]
  },
  {
   "cell_type": "code",
   "execution_count": 6,
   "metadata": {},
   "outputs": [],
   "source": [
    "gamma = 0.85 # Degree of private payoff function\n",
    "alpha = ctrl.alpha # Private productivity additive parameter\n",
    "beta = ctrl.beta # Private productivity multiplicative parameter"
   ]
  },
  {
   "cell_type": "markdown",
   "metadata": {},
   "source": [
    "### Private Productivity Function"
   ]
  },
  {
   "cell_type": "code",
   "execution_count": 7,
   "metadata": {},
   "outputs": [],
   "source": [
    "def private_productivity(alpha, beta, tax_rate, total_endowment):\n",
    "    \"\"\"\n",
    "    Determines the productivity of private payoffs.\n",
    "    \n",
    "    Input: Function base parameters (alpha, beta), the current tax rate and the sum of all the endowments (total_endowment)\n",
    "    Output: Private productivity\n",
    "    \"\"\"\n",
    "    total_public_contribution = tax_rate*total_endowment\n",
    "    \n",
    "    if total_public_contribution <= 192:\n",
    "        return ctrl.alpha + ctrl.beta*total_public_contribution\n",
    "    else:\n",
    "        return ctrl.alpha + ctrl.beta*192"
   ]
  },
  {
   "cell_type": "markdown",
   "metadata": {},
   "source": [
    "### Payoff Function"
   ]
  },
  {
   "cell_type": "code",
   "execution_count": 8,
   "metadata": {},
   "outputs": [],
   "source": [
    "def private_payoff(private_prod, gamma, tax_rate, endowment):\n",
    "    \"\"\"\n",
    "    Determines the private payoff for each player.\n",
    "    \n",
    "    Input: Private productivity (value, not the funct), degree of private payoff function (gamma), \n",
    "           current tax rate and endowment\n",
    "    Output: Private payoff\n",
    "    \"\"\"\n",
    "    private_budget = (1-tax_rate)*endowment\n",
    "    \n",
    "    return (private_prod*private_budget)**gamma"
   ]
  },
  {
   "cell_type": "markdown",
   "metadata": {},
   "source": [
    "# 3. Defining the tax rate calibrator"
   ]
  },
  {
   "cell_type": "code",
   "execution_count": 9,
   "metadata": {},
   "outputs": [],
   "source": [
    "def total_payoff_maximizer(gamma, alpha, beta, endowment, total_endowment, tax_step):\n",
    "    \"\"\"\n",
    "    This function tries several values for the tax rate in the total payoff\n",
    "    and gives as a result the value that maximizes it for a player \n",
    "    of an specific base endowment\n",
    "    \n",
    "    Input: Private/Public payoff function parameters (gamma, alpha, beta), \n",
    "           player endowment, tax rate constant increase for calculations (0 <= tax_step <= 1)\n",
    "    Output: List with numerically optimal tax rate for a player of an specific endowment (first item)\n",
    "            and the optimal total payoff (second item)\n",
    "    \"\"\"\n",
    "    \n",
    "    optimal_tax_rate = 0 # float, value of optimal tax rate\n",
    "    optimal_total_payoff = 0 # float, value of optimal total payoff\n",
    "    \n",
    "    for tax_rate in list(np.arange(0, 1+tax_step, tax_step)): # evaluating each tax rate\n",
    "        player_public_payoff = public_payoff(total_endowment, tax_rate)\n",
    "        player_private_productivity = private_productivity(alpha, beta, tax_rate, total_endowment)\n",
    "        player_private_payoff = private_payoff(player_private_productivity, gamma, tax_rate, endowment)\n",
    "        \n",
    "        player_total_payoff = player_public_payoff + player_private_payoff\n",
    "        \n",
    "        if optimal_total_payoff < player_total_payoff:\n",
    "            optimal_tax_rate = tax_rate\n",
    "            optimal_total_payoff = player_total_payoff\n",
    "        \n",
    "    return [optimal_tax_rate, optimal_total_payoff]"
   ]
  },
  {
   "cell_type": "markdown",
   "metadata": {},
   "source": [
    "### Testing our maximizer"
   ]
  },
  {
   "cell_type": "code",
   "execution_count": 16,
   "metadata": {
    "scrolled": false
   },
   "outputs": [
    {
     "data": {
      "text/plain": [
       "[0.545, 767.9794641897415]"
      ]
     },
     "execution_count": 16,
     "metadata": {},
     "output_type": "execute_result"
    }
   ],
   "source": [
    "optimal_set = total_payoff_maximizer(gamma, alpha, beta, unique_task_endowments[0], total_endowment, 0.005)\n",
    "optimal_set"
   ]
  },
  {
   "cell_type": "markdown",
   "metadata": {},
   "source": [
    "# 4. Defining our tester"
   ]
  },
  {
   "cell_type": "code",
   "execution_count": 30,
   "metadata": {},
   "outputs": [],
   "source": [
    "def tester_calibration(initial_gamma, initial_alpha, initial_beta, step_gamma, step_alpha, step_beta, step_tax):\n",
    "    \"\"\"\n",
    "    Obtains the optimal tax rates for several set of parameters\n",
    "    given the steps for each of them and calculates the difference\n",
    "    of the ones for the higher and lower endowment players\n",
    "    \n",
    "    Input: Initial values for payoff function parameters\n",
    "    Output: Dataframe with differences in taxes\n",
    "    \"\"\"\n",
    "    \n",
    "    # list of used parameters\n",
    "    gamma_list = []\n",
    "    beta_list = []\n",
    "    alpha_list = []\n",
    "    high_endw_tax_list = []\n",
    "    low_endw_tax_list = []\n",
    "    tax_differences = []\n",
    "    \n",
    "    for gamma in np.arange(initial_gamma, 2, step_gamma):\n",
    "        for beta in np.arange(initial_beta, initial_beta+1, step_beta):\n",
    "            for alpha in np.arange(initial_alpha, initial_alpha*50, step_alpha):\n",
    "                high_endw_tax = total_payoff_maximizer(gamma, alpha, beta, unique_task_endowments[0], total_endowment, step_tax)[0]\n",
    "                low_endw_tax = total_payoff_maximizer(gamma, alpha, beta, unique_task_endowments[1], total_endowment, step_tax)[0]\n",
    "                \n",
    "                tax_difference = high_endw_tax - low_endw_tax\n",
    "                \n",
    "                gamma_list.append(gamma)\n",
    "                beta_list.append(beta)\n",
    "                alpha_list.append(alpha)\n",
    "                \n",
    "                high_endw_tax_list.append(high_endw_tax)\n",
    "                low_endw_tax_list.append(low_endw_tax)\n",
    "                tax_differences.append(tax_difference)\n",
    "    \n",
    "    data = {\"Gamma\": gamma_list, \n",
    "            \"Beta\": beta_list, \n",
    "            \"Alpha\": alpha_list,\n",
    "            \"High Endowment Tax\": high_endw_tax_list, \n",
    "            \"Low Endowment Tax\": low_endw_tax_list, \n",
    "            \"Tax Difference\": tax_differences}\n",
    "    \n",
    "    return pd.DataFrame(data, columns= [\"Gamma\", \"Beta\", \"Alpha\", \"High Endowment Tax\", \"Low Endowment Tax\",\"Tax Difference\"])"
   ]
  },
  {
   "cell_type": "markdown",
   "metadata": {},
   "source": [
    "# 5. Starting the Calibration"
   ]
  },
  {
   "cell_type": "markdown",
   "metadata": {},
   "source": [
    "### Initial Parameters"
   ]
  },
  {
   "cell_type": "code",
   "execution_count": 28,
   "metadata": {},
   "outputs": [],
   "source": [
    "gamma = 0.1\n",
    "alpha = 2\n",
    "beta = 1/16"
   ]
  },
  {
   "cell_type": "markdown",
   "metadata": {},
   "source": [
    "## Calibrating the functions"
   ]
  },
  {
   "cell_type": "code",
   "execution_count": 34,
   "metadata": {
    "scrolled": true
   },
   "outputs": [
    {
     "data": {
      "text/html": [
       "<div>\n",
       "<style scoped>\n",
       "    .dataframe tbody tr th:only-of-type {\n",
       "        vertical-align: middle;\n",
       "    }\n",
       "\n",
       "    .dataframe tbody tr th {\n",
       "        vertical-align: top;\n",
       "    }\n",
       "\n",
       "    .dataframe thead th {\n",
       "        text-align: right;\n",
       "    }\n",
       "</style>\n",
       "<table border=\"1\" class=\"dataframe\">\n",
       "  <thead>\n",
       "    <tr style=\"text-align: right;\">\n",
       "      <th></th>\n",
       "      <th>Gamma</th>\n",
       "      <th>Beta</th>\n",
       "      <th>Alpha</th>\n",
       "      <th>High Endowment Tax</th>\n",
       "      <th>Low Endowment Tax</th>\n",
       "      <th>Tax Difference</th>\n",
       "    </tr>\n",
       "  </thead>\n",
       "  <tbody>\n",
       "    <tr>\n",
       "      <th>0</th>\n",
       "      <td>0.1</td>\n",
       "      <td>0.0625</td>\n",
       "      <td>2.0</td>\n",
       "      <td>0.551</td>\n",
       "      <td>0.551</td>\n",
       "      <td>0.0</td>\n",
       "    </tr>\n",
       "    <tr>\n",
       "      <th>1</th>\n",
       "      <td>0.1</td>\n",
       "      <td>0.0625</td>\n",
       "      <td>2.5</td>\n",
       "      <td>0.551</td>\n",
       "      <td>0.551</td>\n",
       "      <td>0.0</td>\n",
       "    </tr>\n",
       "    <tr>\n",
       "      <th>2</th>\n",
       "      <td>0.1</td>\n",
       "      <td>0.0625</td>\n",
       "      <td>3.0</td>\n",
       "      <td>0.551</td>\n",
       "      <td>0.551</td>\n",
       "      <td>0.0</td>\n",
       "    </tr>\n",
       "    <tr>\n",
       "      <th>3</th>\n",
       "      <td>0.1</td>\n",
       "      <td>0.0625</td>\n",
       "      <td>3.5</td>\n",
       "      <td>0.551</td>\n",
       "      <td>0.551</td>\n",
       "      <td>0.0</td>\n",
       "    </tr>\n",
       "    <tr>\n",
       "      <th>4</th>\n",
       "      <td>0.1</td>\n",
       "      <td>0.0625</td>\n",
       "      <td>4.0</td>\n",
       "      <td>0.551</td>\n",
       "      <td>0.551</td>\n",
       "      <td>0.0</td>\n",
       "    </tr>\n",
       "    <tr>\n",
       "      <th>...</th>\n",
       "      <td>...</td>\n",
       "      <td>...</td>\n",
       "      <td>...</td>\n",
       "      <td>...</td>\n",
       "      <td>...</td>\n",
       "      <td>...</td>\n",
       "    </tr>\n",
       "    <tr>\n",
       "      <th>37235</th>\n",
       "      <td>1.9</td>\n",
       "      <td>0.9625</td>\n",
       "      <td>97.5</td>\n",
       "      <td>0.498</td>\n",
       "      <td>0.498</td>\n",
       "      <td>0.0</td>\n",
       "    </tr>\n",
       "    <tr>\n",
       "      <th>37236</th>\n",
       "      <td>1.9</td>\n",
       "      <td>0.9625</td>\n",
       "      <td>98.0</td>\n",
       "      <td>0.498</td>\n",
       "      <td>0.498</td>\n",
       "      <td>0.0</td>\n",
       "    </tr>\n",
       "    <tr>\n",
       "      <th>37237</th>\n",
       "      <td>1.9</td>\n",
       "      <td>0.9625</td>\n",
       "      <td>98.5</td>\n",
       "      <td>0.498</td>\n",
       "      <td>0.498</td>\n",
       "      <td>0.0</td>\n",
       "    </tr>\n",
       "    <tr>\n",
       "      <th>37238</th>\n",
       "      <td>1.9</td>\n",
       "      <td>0.9625</td>\n",
       "      <td>99.0</td>\n",
       "      <td>0.498</td>\n",
       "      <td>0.498</td>\n",
       "      <td>0.0</td>\n",
       "    </tr>\n",
       "    <tr>\n",
       "      <th>37239</th>\n",
       "      <td>1.9</td>\n",
       "      <td>0.9625</td>\n",
       "      <td>99.5</td>\n",
       "      <td>0.498</td>\n",
       "      <td>0.498</td>\n",
       "      <td>0.0</td>\n",
       "    </tr>\n",
       "  </tbody>\n",
       "</table>\n",
       "<p>37240 rows × 6 columns</p>\n",
       "</div>"
      ],
      "text/plain": [
       "       Gamma    Beta  Alpha  High Endowment Tax  Low Endowment Tax  \\\n",
       "0        0.1  0.0625    2.0               0.551              0.551   \n",
       "1        0.1  0.0625    2.5               0.551              0.551   \n",
       "2        0.1  0.0625    3.0               0.551              0.551   \n",
       "3        0.1  0.0625    3.5               0.551              0.551   \n",
       "4        0.1  0.0625    4.0               0.551              0.551   \n",
       "...      ...     ...    ...                 ...                ...   \n",
       "37235    1.9  0.9625   97.5               0.498              0.498   \n",
       "37236    1.9  0.9625   98.0               0.498              0.498   \n",
       "37237    1.9  0.9625   98.5               0.498              0.498   \n",
       "37238    1.9  0.9625   99.0               0.498              0.498   \n",
       "37239    1.9  0.9625   99.5               0.498              0.498   \n",
       "\n",
       "       Tax Difference  \n",
       "0                 0.0  \n",
       "1                 0.0  \n",
       "2                 0.0  \n",
       "3                 0.0  \n",
       "4                 0.0  \n",
       "...               ...  \n",
       "37235             0.0  \n",
       "37236             0.0  \n",
       "37237             0.0  \n",
       "37238             0.0  \n",
       "37239             0.0  \n",
       "\n",
       "[37240 rows x 6 columns]"
      ]
     },
     "execution_count": 34,
     "metadata": {},
     "output_type": "execute_result"
    }
   ],
   "source": [
    "test_tester = tester_calibration(gamma, alpha, beta, step_gamma=0.1, step_alpha=0.5, step_beta=0.1, step_tax=0.001)\n",
    "test_tester"
   ]
  },
  {
   "cell_type": "code",
   "execution_count": 35,
   "metadata": {},
   "outputs": [
    {
     "name": "stderr",
     "output_type": "stream",
     "text": [
      "D:\\Anaconda5.2.0\\lib\\site-packages\\pandas\\compat\\_optional.py:106: UserWarning: Pandas requires version '0.9.8' or newer of 'xlsxwriter' (version '0.9.3' currently installed).\n",
      "  warnings.warn(msg, UserWarning)\n"
     ]
    }
   ],
   "source": [
    "test_tester.to_excel(\"calibration.xlsx\")"
   ]
  }
 ],
 "metadata": {
  "kernelspec": {
   "display_name": "Python 3",
   "language": "python",
   "name": "python3"
  },
  "language_info": {
   "codemirror_mode": {
    "name": "ipython",
    "version": 3
   },
   "file_extension": ".py",
   "mimetype": "text/x-python",
   "name": "python",
   "nbconvert_exporter": "python",
   "pygments_lexer": "ipython3",
   "version": "3.6.5"
  },
  "toc": {
   "base_numbering": 1,
   "nav_menu": {},
   "number_sections": true,
   "sideBar": true,
   "skip_h1_title": false,
   "title_cell": "Table of Contents",
   "title_sidebar": "Contents",
   "toc_cell": false,
   "toc_position": {},
   "toc_section_display": true,
   "toc_window_display": false
  }
 },
 "nbformat": 4,
 "nbformat_minor": 2
}
