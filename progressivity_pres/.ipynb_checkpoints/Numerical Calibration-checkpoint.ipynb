{
 "cells": [
  {
   "cell_type": "code",
   "execution_count": 1,
   "metadata": {},
   "outputs": [],
   "source": [
    "%matplotlib notebook\n",
    "import matplotlib as mpl\n",
    "import matplotlib.patches as mpatches\n",
    "import matplotlib.pyplot as plt\n",
    "import numpy as np\n",
    "import math\n",
    "import controls as ctrl\n",
    "import pandas as pd\n",
    "import os"
   ]
  },
  {
   "cell_type": "markdown",
   "metadata": {},
   "source": [
    "**Programmer:** Marco Gutierrez"
   ]
  },
  {
   "cell_type": "markdown",
   "metadata": {},
   "source": [
    "# Defining our endowments"
   ]
  },
  {
   "cell_type": "code",
   "execution_count": 7,
   "metadata": {},
   "outputs": [],
   "source": [
    "original_task_endowments = ctrl.task_endowments\n",
    "total_endowment = sum(original_task_endowments)\n",
    "unique_task_endowments = list(set(ctrl.task_endowments))\n",
    "unique_task_endowments.sort()"
   ]
  },
  {
   "cell_type": "markdown",
   "metadata": {},
   "source": [
    "# Defining Payoff Functions"
   ]
  },
  {
   "cell_type": "markdown",
   "metadata": {},
   "source": [
    "## 1. Public Payoff"
   ]
  },
  {
   "cell_type": "markdown",
   "metadata": {},
   "source": [
    "### Parameters"
   ]
  },
  {
   "cell_type": "code",
   "execution_count": 17,
   "metadata": {},
   "outputs": [],
   "source": [
    "theta = 0.025 # exponential parameter"
   ]
  },
  {
   "cell_type": "markdown",
   "metadata": {},
   "source": [
    "### Payoff Function"
   ]
  },
  {
   "cell_type": "code",
   "execution_count": 13,
   "metadata": {},
   "outputs": [],
   "source": [
    "def public_payoff(total_endowment, tax_rate):\n",
    "    \"\"\"\n",
    "    This function calculates the public payoff for the players using\n",
    "    the Kamei (2019) functions\n",
    "    \n",
    "    Input: Theta (exponential parameter), the sum of all the endowments (total_endowment) and the Tax rate (tax_rate)\n",
    "    Output: Public payoff for each player\n",
    "    \"\"\"\n",
    "    total_public_contribution = tax_rate*total_endowment\n",
    "    \n",
    "    if total_public_contribution <= 192:\n",
    "        # public income for current total contribution\n",
    "        return 101 / (1 + 100 * math.exp(-theta * total_public_contribution)) - 1\n",
    "    else:\n",
    "        return 101 / (1 + 100 * math.exp(-theta * 192)) - 1"
   ]
  },
  {
   "cell_type": "markdown",
   "metadata": {},
   "source": [
    "## 2. Private Payoff"
   ]
  },
  {
   "cell_type": "markdown",
   "metadata": {},
   "source": [
    "### Parameters"
   ]
  },
  {
   "cell_type": "code",
   "execution_count": 11,
   "metadata": {},
   "outputs": [],
   "source": [
    "gamma = 0.85 # Degree of private payoff function\n",
    "alpha = ctrl.alpha # Private productivity additive parameter\n",
    "beta = ctrl.beta # Private productivity multiplicative parameter"
   ]
  },
  {
   "cell_type": "markdown",
   "metadata": {},
   "source": [
    "### Private Productivity Function"
   ]
  },
  {
   "cell_type": "code",
   "execution_count": 16,
   "metadata": {},
   "outputs": [],
   "source": [
    "def private_productivity(alpha, beta, tax_rate, total_endowment):\n",
    "    \"\"\"\n",
    "    Determines the productivity of private payoffs.\n",
    "    \n",
    "    Input: Function base parameters (alpha, beta), the current tax rate and the sum of all the endowments (total_endowment)\n",
    "    Output: Private productivity\n",
    "    \"\"\"\n",
    "    total_public_contribution = tax_rate*total_endowment\n",
    "    \n",
    "    if total_public_contribution <= 192:\n",
    "        return ctrl.alpha + ctrl.beta*total_public_contribution\n",
    "    else:\n",
    "        return ctrl.alpha + ctrl.beta*192"
   ]
  },
  {
   "cell_type": "markdown",
   "metadata": {},
   "source": [
    "### Payoff Function"
   ]
  },
  {
   "cell_type": "code",
   "execution_count": 19,
   "metadata": {},
   "outputs": [],
   "source": [
    "def private_payoff(private_productivity, gamma, tax_rate, endowment):\n",
    "    \"\"\"\n",
    "    Determines the private payoff for each player.\n",
    "    \n",
    "    Input: Private productivity, degree of private payoff function (gamma), current tax rate and endowment\n",
    "    Output: Private payoff\n",
    "    \"\"\"\n",
    "    private_budget = (1-tax_rate)*endowment\n",
    "    \n",
    "    return (private_productivity*private_budget)**gamma"
   ]
  }
 ],
 "metadata": {
  "kernelspec": {
   "display_name": "Python 3",
   "language": "python",
   "name": "python3"
  },
  "language_info": {
   "codemirror_mode": {
    "name": "ipython",
    "version": 3
   },
   "file_extension": ".py",
   "mimetype": "text/x-python",
   "name": "python",
   "nbconvert_exporter": "python",
   "pygments_lexer": "ipython3",
   "version": "3.6.5"
  }
 },
 "nbformat": 4,
 "nbformat_minor": 2
}
